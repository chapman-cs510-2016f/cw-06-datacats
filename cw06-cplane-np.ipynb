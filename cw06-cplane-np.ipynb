{
 "cells": [
  {
   "cell_type": "markdown",
   "metadata": {
    "collapsed": false
   },
   "source": [
    "# CW-06 \n",
    "#### Simrath Ratra & Andrew Nguyen"
   ]
  },
  {
   "cell_type": "markdown",
   "metadata": {},
   "source": [
    "### Explanation of Our Class\n",
    "\n",
    "Our class first imports the module abscplane.py. We created a new class ComplexPlaneNP that subclasses AbsComplexPlane. The main difference with this classwork was that we used numpy arrays and panda labels. \n",
    "\n",
    "Starting with the Complex Plane Class which sets the initial values for the object and creates the plane. The class function refresh (), is called to create the plane with given arguments. For every point (x + y*1j), replace the point with the value self.f(x+y*lj). This takes the set values of xmin, xmax, xlen, ymin, ymax, ylen to create the plane. It also takes the set value of f and applies the function when the plane is created, using numpy arrays and panda labels to create the plane and give it labels. Numpy is used by first using linspace to get all the x and y values between their respective min and max and the points inbetween by their length values. Then meshgrid is used to combine all the points together using the formula x + y*lj to vectorize the grid. Then a list is created of x and y values to be used in our panda implementation for column and row names. Panda label is used to add x and y value labels to the grid, and then transpose the grid so the values are ordered to resemble the number plane.\n",
    "       "
   ]
  },
  {
   "cell_type": "code",
   "execution_count": 1,
   "metadata": {
    "collapsed": false
   },
   "outputs": [
    {
     "data": {
      "text/html": [
       "<div style=\"max-height:1000px;max-width:1500px;overflow:auto;\">\n",
       "<table border=\"1\" class=\"dataframe\">\n",
       "  <thead>\n",
       "    <tr style=\"text-align: right;\">\n",
       "      <th></th>\n",
       "      <th>-5.0</th>\n",
       "      <th>-4.0</th>\n",
       "      <th>-3.0</th>\n",
       "      <th>-2.0</th>\n",
       "      <th>-1.0</th>\n",
       "      <th>0.0</th>\n",
       "      <th>1.0</th>\n",
       "      <th>2.0</th>\n",
       "      <th>3.0</th>\n",
       "      <th>4.0</th>\n",
       "      <th>5.0</th>\n",
       "    </tr>\n",
       "  </thead>\n",
       "  <tbody>\n",
       "    <tr>\n",
       "      <th>-5.0*j</th>\n",
       "      <td> (-5-5j)</td>\n",
       "      <td> (-4-5j)</td>\n",
       "      <td> (-3-5j)</td>\n",
       "      <td> (-2-5j)</td>\n",
       "      <td> (-1-5j)</td>\n",
       "      <td> -5j</td>\n",
       "      <td> (1-5j)</td>\n",
       "      <td> (2-5j)</td>\n",
       "      <td> (3-5j)</td>\n",
       "      <td> (4-5j)</td>\n",
       "      <td> (5-5j)</td>\n",
       "    </tr>\n",
       "    <tr>\n",
       "      <th>-4.0*j</th>\n",
       "      <td> (-5-4j)</td>\n",
       "      <td> (-4-4j)</td>\n",
       "      <td> (-3-4j)</td>\n",
       "      <td> (-2-4j)</td>\n",
       "      <td> (-1-4j)</td>\n",
       "      <td> -4j</td>\n",
       "      <td> (1-4j)</td>\n",
       "      <td> (2-4j)</td>\n",
       "      <td> (3-4j)</td>\n",
       "      <td> (4-4j)</td>\n",
       "      <td> (5-4j)</td>\n",
       "    </tr>\n",
       "    <tr>\n",
       "      <th>-3.0*j</th>\n",
       "      <td> (-5-3j)</td>\n",
       "      <td> (-4-3j)</td>\n",
       "      <td> (-3-3j)</td>\n",
       "      <td> (-2-3j)</td>\n",
       "      <td> (-1-3j)</td>\n",
       "      <td> -3j</td>\n",
       "      <td> (1-3j)</td>\n",
       "      <td> (2-3j)</td>\n",
       "      <td> (3-3j)</td>\n",
       "      <td> (4-3j)</td>\n",
       "      <td> (5-3j)</td>\n",
       "    </tr>\n",
       "    <tr>\n",
       "      <th>-2.0*j</th>\n",
       "      <td> (-5-2j)</td>\n",
       "      <td> (-4-2j)</td>\n",
       "      <td> (-3-2j)</td>\n",
       "      <td> (-2-2j)</td>\n",
       "      <td> (-1-2j)</td>\n",
       "      <td> -2j</td>\n",
       "      <td> (1-2j)</td>\n",
       "      <td> (2-2j)</td>\n",
       "      <td> (3-2j)</td>\n",
       "      <td> (4-2j)</td>\n",
       "      <td> (5-2j)</td>\n",
       "    </tr>\n",
       "    <tr>\n",
       "      <th>-1.0*j</th>\n",
       "      <td> (-5-1j)</td>\n",
       "      <td> (-4-1j)</td>\n",
       "      <td> (-3-1j)</td>\n",
       "      <td> (-2-1j)</td>\n",
       "      <td> (-1-1j)</td>\n",
       "      <td> -1j</td>\n",
       "      <td> (1-1j)</td>\n",
       "      <td> (2-1j)</td>\n",
       "      <td> (3-1j)</td>\n",
       "      <td> (4-1j)</td>\n",
       "      <td> (5-1j)</td>\n",
       "    </tr>\n",
       "    <tr>\n",
       "      <th>0.0*j</th>\n",
       "      <td> (-5+0j)</td>\n",
       "      <td> (-4+0j)</td>\n",
       "      <td> (-3+0j)</td>\n",
       "      <td> (-2+0j)</td>\n",
       "      <td> (-1+0j)</td>\n",
       "      <td>  0j</td>\n",
       "      <td> (1+0j)</td>\n",
       "      <td> (2+0j)</td>\n",
       "      <td> (3+0j)</td>\n",
       "      <td> (4+0j)</td>\n",
       "      <td> (5+0j)</td>\n",
       "    </tr>\n",
       "    <tr>\n",
       "      <th>1.0*j</th>\n",
       "      <td> (-5+1j)</td>\n",
       "      <td> (-4+1j)</td>\n",
       "      <td> (-3+1j)</td>\n",
       "      <td> (-2+1j)</td>\n",
       "      <td> (-1+1j)</td>\n",
       "      <td>  1j</td>\n",
       "      <td> (1+1j)</td>\n",
       "      <td> (2+1j)</td>\n",
       "      <td> (3+1j)</td>\n",
       "      <td> (4+1j)</td>\n",
       "      <td> (5+1j)</td>\n",
       "    </tr>\n",
       "    <tr>\n",
       "      <th>2.0*j</th>\n",
       "      <td> (-5+2j)</td>\n",
       "      <td> (-4+2j)</td>\n",
       "      <td> (-3+2j)</td>\n",
       "      <td> (-2+2j)</td>\n",
       "      <td> (-1+2j)</td>\n",
       "      <td>  2j</td>\n",
       "      <td> (1+2j)</td>\n",
       "      <td> (2+2j)</td>\n",
       "      <td> (3+2j)</td>\n",
       "      <td> (4+2j)</td>\n",
       "      <td> (5+2j)</td>\n",
       "    </tr>\n",
       "    <tr>\n",
       "      <th>3.0*j</th>\n",
       "      <td> (-5+3j)</td>\n",
       "      <td> (-4+3j)</td>\n",
       "      <td> (-3+3j)</td>\n",
       "      <td> (-2+3j)</td>\n",
       "      <td> (-1+3j)</td>\n",
       "      <td>  3j</td>\n",
       "      <td> (1+3j)</td>\n",
       "      <td> (2+3j)</td>\n",
       "      <td> (3+3j)</td>\n",
       "      <td> (4+3j)</td>\n",
       "      <td> (5+3j)</td>\n",
       "    </tr>\n",
       "    <tr>\n",
       "      <th>4.0*j</th>\n",
       "      <td> (-5+4j)</td>\n",
       "      <td> (-4+4j)</td>\n",
       "      <td> (-3+4j)</td>\n",
       "      <td> (-2+4j)</td>\n",
       "      <td> (-1+4j)</td>\n",
       "      <td>  4j</td>\n",
       "      <td> (1+4j)</td>\n",
       "      <td> (2+4j)</td>\n",
       "      <td> (3+4j)</td>\n",
       "      <td> (4+4j)</td>\n",
       "      <td> (5+4j)</td>\n",
       "    </tr>\n",
       "    <tr>\n",
       "      <th>5.0*j</th>\n",
       "      <td> (-5+5j)</td>\n",
       "      <td> (-4+5j)</td>\n",
       "      <td> (-3+5j)</td>\n",
       "      <td> (-2+5j)</td>\n",
       "      <td> (-1+5j)</td>\n",
       "      <td>  5j</td>\n",
       "      <td> (1+5j)</td>\n",
       "      <td> (2+5j)</td>\n",
       "      <td> (3+5j)</td>\n",
       "      <td> (4+5j)</td>\n",
       "      <td> (5+5j)</td>\n",
       "    </tr>\n",
       "  </tbody>\n",
       "</table>\n",
       "</div>"
      ],
      "text/plain": [
       "             -5       -4       -3       -2       -1    0       1       2  \\\n",
       "-5.0*j  (-5-5j)  (-4-5j)  (-3-5j)  (-2-5j)  (-1-5j)  -5j  (1-5j)  (2-5j)   \n",
       "-4.0*j  (-5-4j)  (-4-4j)  (-3-4j)  (-2-4j)  (-1-4j)  -4j  (1-4j)  (2-4j)   \n",
       "-3.0*j  (-5-3j)  (-4-3j)  (-3-3j)  (-2-3j)  (-1-3j)  -3j  (1-3j)  (2-3j)   \n",
       "-2.0*j  (-5-2j)  (-4-2j)  (-3-2j)  (-2-2j)  (-1-2j)  -2j  (1-2j)  (2-2j)   \n",
       "-1.0*j  (-5-1j)  (-4-1j)  (-3-1j)  (-2-1j)  (-1-1j)  -1j  (1-1j)  (2-1j)   \n",
       "0.0*j   (-5+0j)  (-4+0j)  (-3+0j)  (-2+0j)  (-1+0j)   0j  (1+0j)  (2+0j)   \n",
       "1.0*j   (-5+1j)  (-4+1j)  (-3+1j)  (-2+1j)  (-1+1j)   1j  (1+1j)  (2+1j)   \n",
       "2.0*j   (-5+2j)  (-4+2j)  (-3+2j)  (-2+2j)  (-1+2j)   2j  (1+2j)  (2+2j)   \n",
       "3.0*j   (-5+3j)  (-4+3j)  (-3+3j)  (-2+3j)  (-1+3j)   3j  (1+3j)  (2+3j)   \n",
       "4.0*j   (-5+4j)  (-4+4j)  (-3+4j)  (-2+4j)  (-1+4j)   4j  (1+4j)  (2+4j)   \n",
       "5.0*j   (-5+5j)  (-4+5j)  (-3+5j)  (-2+5j)  (-1+5j)   5j  (1+5j)  (2+5j)   \n",
       "\n",
       "             3       4       5  \n",
       "-5.0*j  (3-5j)  (4-5j)  (5-5j)  \n",
       "-4.0*j  (3-4j)  (4-4j)  (5-4j)  \n",
       "-3.0*j  (3-3j)  (4-3j)  (5-3j)  \n",
       "-2.0*j  (3-2j)  (4-2j)  (5-2j)  \n",
       "-1.0*j  (3-1j)  (4-1j)  (5-1j)  \n",
       "0.0*j   (3+0j)  (4+0j)  (5+0j)  \n",
       "1.0*j   (3+1j)  (4+1j)  (5+1j)  \n",
       "2.0*j   (3+2j)  (4+2j)  (5+2j)  \n",
       "3.0*j   (3+3j)  (4+3j)  (5+3j)  \n",
       "4.0*j   (3+4j)  (4+4j)  (5+4j)  \n",
       "5.0*j   (3+5j)  (4+5j)  (5+5j)  "
      ]
     },
     "execution_count": 1,
     "metadata": {},
     "output_type": "execute_result"
    }
   ],
   "source": [
    "import cplanenp\n",
    "c = cplanenp.ComplexPlaneNP()\n",
    "c.plane"
   ]
  },
  {
   "cell_type": "markdown",
   "metadata": {},
   "source": [
    "### Test Function for Julia "
   ]
  },
  {
   "cell_type": "code",
   "execution_count": null,
   "metadata": {
    "collapsed": true
   },
   "outputs": [],
   "source": [
    "lkjsdlkafjlsdkfjsdlfjdsflkfjsldkjflsadkfjd"
   ]
  },
  {
   "cell_type": "code",
   "execution_count": 1,
   "metadata": {
    "collapsed": false
   },
   "outputs": [
    {
     "data": {
      "text/plain": [
       "0"
      ]
     },
     "execution_count": 1,
     "metadata": {},
     "output_type": "execute_result"
    }
   ],
   "source": [
    "import Julia\n",
    "j = Julia.julia( -1.037 + 0.17j )\n",
    "j(-1.00 - 0.2j)"
   ]
  }
 ],
 "metadata": {
  "kernelspec": {
   "display_name": "Python 3",
   "language": "python",
   "name": "python3"
  },
  "language_info": {
   "codemirror_mode": {
    "name": "ipython",
    "version": 3
   },
   "file_extension": ".py",
   "mimetype": "text/x-python",
   "name": "python",
   "nbconvert_exporter": "python",
   "pygments_lexer": "ipython3",
   "version": "3.4.3+"
  }
 },
 "nbformat": 4,
 "nbformat_minor": 0
}
