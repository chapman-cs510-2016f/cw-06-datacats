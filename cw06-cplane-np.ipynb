{
 "cells": [
  {
   "cell_type": "markdown",
   "metadata": {
    "collapsed": false
   },
   "source": [
    "# CW-06 \n",
    "#### Simrath Ratra & Andrew Nguyen"
   ]
  },
  {
   "cell_type": "markdown",
   "metadata": {},
   "source": [
    "### Explanation of Our Class\n",
    "\n",
    "Our class first imports the module abscplane.py. We created a new class ComplexPlaneNP that subclasses AbsComplexPlane. The main difference with this classwork was that we used numpy arrays and panda labels. \n",
    "\n",
    "Starting with the Complex Plane Class which sets the initial values for the object and creates the plane. The class function refresh (), is called to create the plane with given arguments. For every point (x + y*1j), replace the point with the value self.f(x+y*lj). This takes the set values of xmin, xmax, xlen, ymin, ymax, ylen to create the plane. It also takes the set value of f and applies the function when the plane is created, using numpy arrays and panda labels to create the plane and give it labels. Numpy is used by first using linspace to get all the x and y values between their respective min and max and the points inbetween by their length values. Then meshgrid is used to combine all the points together using the formula x + y*lj to vectorize the grid. Then a list is created of x and y values to be used in our panda implementation for column and row names. Panda label is used to add x and y value labels to the grid, and then transpose the grid so the values are ordered to resemble the number plane.\n",
    "       "
   ]
  },
  {
   "cell_type": "markdown",
   "metadata": {},
   "source": [
    "### Test Function for Julia "
   ]
  },
  {
   "cell_type": "code",
   "execution_count": 5,
   "metadata": {
    "collapsed": false
   },
   "outputs": [
    {
     "ename": "ImportError",
     "evalue": "No module named 'test_julia'",
     "output_type": "error",
     "traceback": [
      "\u001b[0;31m---------------------------------------------------------------------------\u001b[0m",
      "\u001b[0;31mImportError\u001b[0m                               Traceback (most recent call last)",
      "\u001b[0;32m<ipython-input-5-ce3f3e49b072>\u001b[0m in \u001b[0;36m<module>\u001b[0;34m()\u001b[0m\n\u001b[0;32m----> 1\u001b[0;31m \u001b[0;32mimport\u001b[0m \u001b[0mtest_julia\u001b[0m\u001b[0;34m\u001b[0m\u001b[0m\n\u001b[0m\u001b[1;32m      2\u001b[0m \u001b[0mtest_julia\u001b[0m\u001b[0;34m.\u001b[0m\u001b[0mJulia\u001b[0m\u001b[0;34m(\u001b[0m\u001b[0;36m1\u001b[0m\u001b[0;34m)\u001b[0m\u001b[0;34m\u001b[0m\u001b[0m\n",
      "\u001b[0;31mImportError\u001b[0m: No module named 'test_julia'"
     ]
    }
   ],
   "source": [
    "import test_julia\n",
    "test_julia.Julia(1)"
   ]
  }
 ],
 "metadata": {
  "kernelspec": {
   "display_name": "Python 3",
   "language": "python",
   "name": "python3"
  },
  "language_info": {
   "codemirror_mode": {
    "name": "ipython",
    "version": 3
   },
   "file_extension": ".py",
   "mimetype": "text/x-python",
   "name": "python",
   "nbconvert_exporter": "python",
   "pygments_lexer": "ipython3",
   "version": "3.4.3+"
  }
 },
 "nbformat": 4,
 "nbformat_minor": 0
}
